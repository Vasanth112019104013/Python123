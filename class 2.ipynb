{
 "cells": [
  {
   "cell_type": "code",
   "execution_count": 34,
   "id": "f60b1199",
   "metadata": {},
   "outputs": [
    {
     "name": "stdout",
     "output_type": "stream",
     "text": [
      "enter the number6\n",
      "6\n",
      "<class 'str'>\n",
      "test\n",
      "gmail\n",
      "['i', 'o', 'e']\n",
      "i o e\n"
     ]
    }
   ],
   "source": [
    "                                               #ASSIGNMET 1                                                 Date:5/07/2023\n",
    "#Get the number frome the input                                                                             Wednesday\n",
    "n=input(\"enter the number\")\n",
    "print(n)\n",
    "print(type(n))\n",
    "\n",
    "#Test@gmail.com\n",
    "a=\"test@gmail.com\"\n",
    "b=a[0:4]\n",
    "c=a[5:10]\n",
    "print(b)\n",
    "print(c)\n",
    "\n",
    "\n",
    "\n",
    "\n",
    "#a=[hi,hello,wellcome] Print The Last Ltr in the last word\n",
    "d=[\"hi\",\"hello\",\"welcome\"]\n",
    "x=d[0]\n",
    "y=d[1]\n",
    "z=d[2]\n",
    "l=[x[1],y[4],z[6]]\n",
    "print(l)\n",
    "print(l[0],l[1],l[2])"
   ]
  },
  {
   "cell_type": "code",
   "execution_count": null,
   "id": "faeb12de",
   "metadata": {},
   "outputs": [],
   "source": [
    "a=[\"Hi\",\"Hello\",\"Welcome\"]\n",
    "print(a[0])"
   ]
  },
  {
   "cell_type": "code",
   "execution_count": 12,
   "id": "fe600ca9",
   "metadata": {},
   "outputs": [
    {
     "name": "stdout",
     "output_type": "stream",
     "text": [
      "{1, 3, 4, 5, 6, 7, 8, 9, 23}\n",
      "<class 'set'>\n",
      "True\n"
     ]
    }
   ],
   "source": [
    "a={1,23,3,4,5,6,7,7,8,9,9,9}\n",
    "print(a)\n",
    "print(type(a))\n",
    "print(isinstance(a,set))"
   ]
  },
  {
   "cell_type": "code",
   "execution_count": 14,
   "id": "01fae0e5",
   "metadata": {},
   "outputs": [
    {
     "name": "stdout",
     "output_type": "stream",
     "text": [
      "1\n",
      "23\n",
      "[1, 3, 4, 5, 6, 7, 8, 9, 23]\n"
     ]
    }
   ],
   "source": [
    "print(min(a))\n",
    "print(max(a))\n",
    "print(sorted(a))#this has the nature covverts lists\n"
   ]
  },
  {
   "cell_type": "code",
   "execution_count": 29,
   "id": "4c56a92a",
   "metadata": {},
   "outputs": [],
   "source": [
    "a={1,2,3}\n",
    "b={7,6,5,4,4,3}"
   ]
  },
  {
   "cell_type": "code",
   "execution_count": 30,
   "id": "f009b52a",
   "metadata": {},
   "outputs": [
    {
     "name": "stdout",
     "output_type": "stream",
     "text": [
      "{1, 2, 3, 4, 5, 6, 7}\n",
      "{1, 2}\n",
      "{3}\n",
      "set()\n"
     ]
    }
   ],
   "source": [
    "print(a.union(b))\n",
    "print(a.difference(b))\n",
    "print(a.intersection(b))\n",
    "print(a.difference(a))"
   ]
  },
  {
   "cell_type": "code",
   "execution_count": 31,
   "id": "5f5afa4e",
   "metadata": {},
   "outputs": [
    {
     "name": "stdout",
     "output_type": "stream",
     "text": [
      "False\n",
      "False\n"
     ]
    }
   ],
   "source": [
    "print(a.issuperset(b))\n",
    "print(b.issuperset(a))"
   ]
  },
  {
   "cell_type": "code",
   "execution_count": 32,
   "id": "2a8f8ca9",
   "metadata": {},
   "outputs": [
    {
     "name": "stdout",
     "output_type": "stream",
     "text": [
      "True\n",
      "False\n"
     ]
    }
   ],
   "source": [
    "print(a.issubset(a))\n",
    "print(b.issubset(a))"
   ]
  },
  {
   "cell_type": "code",
   "execution_count": 86,
   "id": "468ba01e",
   "metadata": {},
   "outputs": [
    {
     "name": "stdout",
     "output_type": "stream",
     "text": [
      "{'name': 'vasanth', 'age': '23', 'location': 'chennai'}\n"
     ]
    }
   ],
   "source": [
    "#dict\n",
    "a={\"name\":\"vasanth\",\"age\":\"23\",\"location\":\"chennai\"}\n",
    "print(a)"
   ]
  },
  {
   "cell_type": "code",
   "execution_count": 35,
   "id": "72e0997f",
   "metadata": {},
   "outputs": [
    {
     "name": "stdout",
     "output_type": "stream",
     "text": [
      "['age:23', 'location:chennai', 'name:vasanth']\n"
     ]
    }
   ],
   "source": [
    "print(sorted(a))"
   ]
  },
  {
   "cell_type": "code",
   "execution_count": 50,
   "id": "72527a2f",
   "metadata": {},
   "outputs": [
    {
     "name": "stdout",
     "output_type": "stream",
     "text": [
      "age\n",
      "name\n",
      "3\n"
     ]
    },
    {
     "ename": "NameError",
     "evalue": "name 'upper' is not defined",
     "output_type": "error",
     "traceback": [
      "\u001b[1;31m---------------------------------------------------------------------------\u001b[0m",
      "\u001b[1;31mNameError\u001b[0m                                 Traceback (most recent call last)",
      "Cell \u001b[1;32mIn[50], line 4\u001b[0m\n\u001b[0;32m      2\u001b[0m \u001b[38;5;28mprint\u001b[39m(\u001b[38;5;28mmax\u001b[39m(a))\n\u001b[0;32m      3\u001b[0m \u001b[38;5;28mprint\u001b[39m(\u001b[38;5;28mlen\u001b[39m(a))\n\u001b[1;32m----> 4\u001b[0m \u001b[38;5;28mprint\u001b[39m(\u001b[43mupper\u001b[49m(a))\n",
      "\u001b[1;31mNameError\u001b[0m: name 'upper' is not defined"
     ]
    }
   ],
   "source": [
    "print(min(a))\n",
    "print(max(a))\n",
    "print(len(a))"
   ]
  },
  {
   "cell_type": "code",
   "execution_count": 59,
   "id": "a832e953",
   "metadata": {},
   "outputs": [
    {
     "name": "stdout",
     "output_type": "stream",
     "text": [
      "23\n",
      "key\n",
      "chennai\n",
      "vasanth\n",
      "Student\n",
      "{'name': 'vasanth', 'age': '23', 'location': 'chennai'}\n"
     ]
    }
   ],
   "source": [
    "#getting the value from the dictaionary\n",
    "print(a[\"age\"])\n",
    "print(a.get(\"value\",\"key\"))\n",
    "print(a[\"location\"])\n",
    "print(a[\"name\"])\n",
    "print(a.get(\"type\",\"Student\"))\n",
    "print(a)"
   ]
  },
  {
   "cell_type": "code",
   "execution_count": 77,
   "id": "7c91d64e",
   "metadata": {},
   "outputs": [
    {
     "name": "stdout",
     "output_type": "stream",
     "text": [
      "{'name': 'vasanth', 'age': '23', 'location': 'chennai', 'test': 'value'}\n",
      "{'name': 'kiran', 'age': '23', 'location': 'chennai', 'test': 'value'}\n"
     ]
    }
   ],
   "source": [
    "#insert the key value in the dictionary \n",
    "a[\"test\"]=\"value\"\n",
    "print(a)\n",
    "#rename the keyword\n",
    "a[\"name\"]=\"kiran\"\n",
    "print(a)"
   ]
  },
  {
   "cell_type": "code",
   "execution_count": 72,
   "id": "76373b96",
   "metadata": {},
   "outputs": [
    {
     "name": "stdout",
     "output_type": "stream",
     "text": [
      "<class 'dict'>\n",
      "True\n"
     ]
    }
   ],
   "source": [
    "print(type(a))\n",
    "print(isinstance(a,dict))"
   ]
  },
  {
   "cell_type": "code",
   "execution_count": 85,
   "id": "42fe54fa",
   "metadata": {},
   "outputs": [
    {
     "name": "stdout",
     "output_type": "stream",
     "text": [
      "{'name': 'vasanth', 'age': '23'}\n"
     ]
    }
   ],
   "source": [
    "a.popitem()\n",
    "print(a)"
   ]
  },
  {
   "cell_type": "code",
   "execution_count": 55,
   "id": "0e5a4003",
   "metadata": {},
   "outputs": [
    {
     "ename": "AttributeError",
     "evalue": "'str' object has no attribute 'values'",
     "output_type": "error",
     "traceback": [
      "\u001b[1;31m---------------------------------------------------------------------------\u001b[0m",
      "\u001b[1;31mAttributeError\u001b[0m                            Traceback (most recent call last)",
      "Cell \u001b[1;32mIn[55], line 2\u001b[0m\n\u001b[0;32m      1\u001b[0m \u001b[38;5;66;03m#very importtent in dictionary \u001b[39;00m\n\u001b[1;32m----> 2\u001b[0m \u001b[38;5;28mprint\u001b[39m(\u001b[43ma\u001b[49m\u001b[38;5;241;43m.\u001b[39;49m\u001b[43mvalues\u001b[49m())\n\u001b[0;32m      3\u001b[0m \u001b[38;5;28mprint\u001b[39m(a\u001b[38;5;241m.\u001b[39mitems())\n\u001b[0;32m      4\u001b[0m \u001b[38;5;28mprint\u001b[39m(a\u001b[38;5;241m.\u001b[39mkeys())\n",
      "\u001b[1;31mAttributeError\u001b[0m: 'str' object has no attribute 'values'"
     ]
    }
   ],
   "source": [
    "#very importtent in dictionary \n",
    "print(a.values())\n",
    "print(a.items())\n",
    "print(a.keys())\n",
    "print()"
   ]
  },
  {
   "cell_type": "code",
   "execution_count": 90,
   "id": "29d0564b",
   "metadata": {},
   "outputs": [],
   "source": [
    "                                              #assignment 3\n",
    "#create a list with duplicates and remve the dulicates and make it a tuple \n",
    "#get user input and check its a alhbet or not\n",
    "#get the vale from the dict and sort it."
   ]
  },
  {
   "cell_type": "code",
   "execution_count": 38,
   "id": "1760f03b",
   "metadata": {},
   "outputs": [
    {
     "ename": "TypeError",
     "evalue": "'tuple' object is not callable",
     "output_type": "error",
     "traceback": [
      "\u001b[1;31m---------------------------------------------------------------------------\u001b[0m",
      "\u001b[1;31mTypeError\u001b[0m                                 Traceback (most recent call last)",
      "Cell \u001b[1;32mIn[38], line 2\u001b[0m\n\u001b[0;32m      1\u001b[0m l1\u001b[38;5;241m=\u001b[39m[\u001b[38;5;241m1\u001b[39m,\u001b[38;5;241m2\u001b[39m,\u001b[38;5;241m3\u001b[39m,\u001b[38;5;241m4\u001b[39m,\u001b[38;5;241m4\u001b[39m,\u001b[38;5;241m5\u001b[39m,\u001b[38;5;241m6\u001b[39m,\u001b[38;5;241m66\u001b[39m,\u001b[38;5;241m66\u001b[39m,\u001b[38;5;241m6\u001b[39m,\u001b[38;5;241m6\u001b[39m]\n\u001b[1;32m----> 2\u001b[0m s\u001b[38;5;241m=\u001b[39m\u001b[38;5;28;43mtuple\u001b[39;49m\u001b[43m(\u001b[49m\u001b[38;5;28;43mset\u001b[39;49m\u001b[43m(\u001b[49m\u001b[43ml1\u001b[49m\u001b[43m)\u001b[49m\u001b[43m)\u001b[49m\n",
      "\u001b[1;31mTypeError\u001b[0m: 'tuple' object is not callable"
     ]
    }
   ],
   "source": [
    "l1=[1,2,3,4,4,5,6,66,66,6,6]\n",
    "s=tuple(set(l1))"
   ]
  },
  {
   "cell_type": "code",
   "execution_count": 21,
   "id": "55a22c2b",
   "metadata": {},
   "outputs": [
    {
     "ename": "TypeError",
     "evalue": "'tuple' object is not callable",
     "output_type": "error",
     "traceback": [
      "\u001b[1;31m---------------------------------------------------------------------------\u001b[0m",
      "\u001b[1;31mTypeError\u001b[0m                                 Traceback (most recent call last)",
      "Cell \u001b[1;32mIn[21], line 1\u001b[0m\n\u001b[1;32m----> 1\u001b[0m \u001b[38;5;28;43mtuple\u001b[39;49m\u001b[43m(\u001b[49m\u001b[43mv\u001b[49m\u001b[43m)\u001b[49m\n",
      "\u001b[1;31mTypeError\u001b[0m: 'tuple' object is not callable"
     ]
    }
   ],
   "source": []
  },
  {
   "cell_type": "code",
   "execution_count": 33,
   "id": "c9386f60",
   "metadata": {},
   "outputs": [
    {
     "name": "stdout",
     "output_type": "stream",
     "text": [
      "---------------------------------------------------------------\n",
      "Arithmetic Operators\n",
      "------------------------------------------------------------\n",
      "9\n",
      "1\n",
      "20\n",
      "1.25\n",
      "1\n",
      "625\n",
      "1\n",
      "-----------------------------------------------------------\n",
      "Relational Operators\n",
      "-----------------------------------------------------------\n",
      "False\n",
      "True\n",
      "False\n",
      "False\n",
      "True\n",
      "True\n",
      "---------------------------------------------------\n",
      "logical operators\n",
      "---------------------------------------------------\n",
      "True\n",
      "False\n",
      "True\n",
      "True\n",
      "False\n",
      "True\n"
     ]
    }
   ],
   "source": [
    "##operators                                                                                             #date=07/07/23\n",
    "a=5                                                                                                     #Friday\n",
    "b=4\n",
    "print(\"---------------------------------------------------------------\")\n",
    "print(\"Arithmetic Operators\")\n",
    "print(\"\"\"------------------------------------------------------------\"\"\")\n",
    "print(a+b)#add\n",
    "print(a-b)#sub\n",
    "print(a*b)#multiplicaation\n",
    "print(a/b)#normal divison\n",
    "print(a%b)#givs the remainder\n",
    "print(a**b)##exponentiation\n",
    "print(a//b)#floor division gives the Quotient\n",
    "print(\"\"\"-----------------------------------------------------------\"\"\")\n",
    "\n",
    "print(\"Relational Operators\")##Relational  operators\n",
    "print(\"\"\"-----------------------------------------------------------\"\"\")\n",
    "\n",
    "print(a==b)\n",
    "print(a!=b)\n",
    "print(a<b)\n",
    "print(a<=b)\n",
    "print(a>b)\n",
    "print(a>=b)\n",
    "\n",
    "print(\"---------------------------------------------------\")\n",
    "print(\"logical operators\")\n",
    "print(\"---------------------------------------------------\")\n",
    "print(True and True)\n",
    "print(False and True)\n",
    "print(True or True)\n",
    "print(True or True)\n",
    "print(not True)\n",
    "print(not False)"
   ]
  },
  {
   "cell_type": "code",
   "execution_count": 54,
   "id": "7d7f31bc",
   "metadata": {},
   "outputs": [
    {
     "data": {
      "text/plain": [
       "['vasanth', 'kumar']"
      ]
     },
     "execution_count": 54,
     "metadata": {},
     "output_type": "execute_result"
    }
   ],
   "source": [
    "l1=[\"vasanth\",\"kumar\",\"vishnu\",]\n",
    "l2=[\"kumar\",\"kishore\",\"tarun\",\"vasanth\"]\n",
    "l3=set(l1).intersection(set(l2))\n",
    "list(l3)"
   ]
  },
  {
   "cell_type": "code",
   "execution_count": 63,
   "id": "43f5a2d1",
   "metadata": {},
   "outputs": [
    {
     "name": "stdout",
     "output_type": "stream",
     "text": [
      "vivekkanth@gmail.com\n",
      "gmail.com\n",
      "vivekkanth\n",
      "gmail\n"
     ]
    }
   ],
   "source": [
    "a=\"vivekkanth@gmail.com\"\n",
    "x=a.split(\"@\")\n",
    "\n",
    "name=x[0]\n",
    "print(a)\n",
    "y=x[1]\n",
    "print(y)\n",
    "y=y.split(\".\")\n",
    "gmail=y[0]\n",
    "print(name)\n",
    "print(gmail)"
   ]
  },
  {
   "cell_type": "code",
   "execution_count": null,
   "id": "661901a7",
   "metadata": {},
   "outputs": [],
   "source": []
  }
 ],
 "metadata": {
  "kernelspec": {
   "display_name": "Python 3 (ipykernel)",
   "language": "python",
   "name": "python3"
  },
  "language_info": {
   "codemirror_mode": {
    "name": "ipython",
    "version": 3
   },
   "file_extension": ".py",
   "mimetype": "text/x-python",
   "name": "python",
   "nbconvert_exporter": "python",
   "pygments_lexer": "ipython3",
   "version": "3.10.9"
  }
 },
 "nbformat": 4,
 "nbformat_minor": 5
}
