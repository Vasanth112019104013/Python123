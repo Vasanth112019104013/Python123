{
 "cells": [
  {
   "cell_type": "code",
   "execution_count": 1,
   "id": "c76899e1",
   "metadata": {},
   "outputs": [
    {
     "name": "stdout",
     "output_type": "stream",
     "text": [
      "welcome to the class \n"
     ]
    }
   ],
   "source": [
    "print(\"welcome to the class \")"
   ]
  },
  {
   "cell_type": "code",
   "execution_count": 2,
   "id": "26de207c",
   "metadata": {},
   "outputs": [
    {
     "name": "stdout",
     "output_type": "stream",
     "text": [
      "welcome to the todays class\n"
     ]
    }
   ],
   "source": [
    "a=\"welcome to the todays class\"\n",
    "print(a)"
   ]
  },
  {
   "cell_type": "code",
   "execution_count": 5,
   "id": "e469fdae",
   "metadata": {},
   "outputs": [
    {
     "ename": "SyntaxError",
     "evalue": "invalid decimal literal (1223057885.py, line 2)",
     "output_type": "error",
     "traceback": [
      "\u001b[1;36m  Cell \u001b[1;32mIn[5], line 2\u001b[1;36m\u001b[0m\n\u001b[1;33m    1a=test\u001b[0m\n\u001b[1;37m    ^\u001b[0m\n\u001b[1;31mSyntaxError\u001b[0m\u001b[1;31m:\u001b[0m invalid decimal literal\n"
     ]
    }
   ],
   "source": [
    "#variable name should not start with number\n",
    "1a=test"
   ]
  },
  {
   "cell_type": "code",
   "execution_count": 4,
   "id": "47e3c3e4",
   "metadata": {},
   "outputs": [
    {
     "name": "stdout",
     "output_type": "stream",
     "text": [
      "test\n"
     ]
    }
   ],
   "source": [
    "a3221=\"test\"\n",
    "print(a3221)"
   ]
  },
  {
   "cell_type": "code",
   "execution_count": 6,
   "id": "4eb52e6e",
   "metadata": {},
   "outputs": [
    {
     "ename": "SyntaxError",
     "evalue": "invalid syntax (3998971152.py, line 2)",
     "output_type": "error",
     "traceback": [
      "\u001b[1;36m  Cell \u001b[1;32mIn[6], line 2\u001b[1;36m\u001b[0m\n\u001b[1;33m    a$=\"test\"\u001b[0m\n\u001b[1;37m     ^\u001b[0m\n\u001b[1;31mSyntaxError\u001b[0m\u001b[1;31m:\u001b[0m invalid syntax\n"
     ]
    }
   ],
   "source": [
    "##variable name should not start with any special characters \n",
    "a$=\"test\"\n",
    "print(a$)"
   ]
  },
  {
   "cell_type": "code",
   "execution_count": 7,
   "id": "5e3726d5",
   "metadata": {},
   "outputs": [
    {
     "name": "stdout",
     "output_type": "stream",
     "text": [
      "test\n"
     ]
    }
   ],
   "source": [
    "#variable applicable by underscore \n",
    "a_1=\"test\"\n",
    "print(a_1)"
   ]
  },
  {
   "cell_type": "code",
   "execution_count": 9,
   "id": "f70a4ccc",
   "metadata": {},
   "outputs": [
    {
     "name": "stdout",
     "output_type": "stream",
     "text": [
      "Sachin Tendulkar\n"
     ]
    }
   ],
   "source": [
    "##string\n",
    "#Any thing that comes under doulbe and triple qoutes\n",
    "a=\"Sachin Tendulkar\"\n",
    "print(a)"
   ]
  },
  {
   "cell_type": "code",
   "execution_count": 16,
   "id": "a34e669a",
   "metadata": {},
   "outputs": [
    {
     "name": "stdout",
     "output_type": "stream",
     "text": [
      "16\n",
      " \n",
      "U\n",
      "[' ', 'A', 'A', 'C', 'D', 'E', 'H', 'I', 'K', 'L', 'N', 'N', 'R', 'S', 'T', 'U']\n",
      "False\n",
      "False\n",
      "False\n",
      "True\n",
      "False\n"
     ]
    }
   ],
   "source": [
    "#string methods gives the vaues \n",
    "print(len(a))\n",
    "print(min(a))\n",
    "print(max(a))\n",
    "print(sorted(a))\n",
    "#string functions will show true or false\n",
    "a=\"SACHIN TENDULKAR\"\n",
    "print(a.isalpha())\n",
    "print(a.isalnum())\n",
    "print(a.isdigit())\n",
    "print(a.isupper())\n",
    "print(a.islower())"
   ]
  },
  {
   "cell_type": "code",
   "execution_count": 17,
   "id": "981328e2",
   "metadata": {},
   "outputs": [
    {
     "name": "stdout",
     "output_type": "stream",
     "text": [
      "SACHIN TENDULKAR\n",
      "sachin tendulkar\n",
      "Sachin tendulkar\n",
      "sachin tendulkar\n"
     ]
    }
   ],
   "source": [
    "#string functions\n",
    "print(a.upper())\n",
    "print(a.lower())\n",
    "print(a.capitalize())\n",
    "print(a.swapcase())"
   ]
  },
  {
   "cell_type": "code",
   "execution_count": null,
   "id": "cde77c57",
   "metadata": {},
   "outputs": [],
   "source": [
    "\n",
    "##class 1\n",
    "#string in python\n",
    "#string functions \n",
    "#string slicing "
   ]
  },
  {
   "cell_type": "code",
   "execution_count": null,
   "id": "b2c34fd4",
   "metadata": {},
   "outputs": [],
   "source": [
    "#indexing\n",
    "#  0  1  2  3  4  5  positive indexing or forward indexing \n",
    "#  p  y  t  h  o  n  \n",
    "# -6 -5 -4 -3 -2 -1  negative indexing or bacward indexing \n",
    "\n",
    "#start:end:step"
   ]
  },
  {
   "cell_type": "code",
   "execution_count": 18,
   "id": "8b473bdf",
   "metadata": {},
   "outputs": [
    {
     "name": "stdout",
     "output_type": "stream",
     "text": [
      "t\n"
     ]
    }
   ],
   "source": [
    "a=\"sachin tendulkar \"\n",
    "print(a[7])"
   ]
  },
  {
   "cell_type": "code",
   "execution_count": 19,
   "id": "989c8462",
   "metadata": {},
   "outputs": [
    {
     "name": "stdout",
     "output_type": "stream",
     "text": [
      "hin ten\n"
     ]
    }
   ],
   "source": [
    "print(a[3:10])"
   ]
  },
  {
   "cell_type": "code",
   "execution_count": 21,
   "id": "065851bc",
   "metadata": {},
   "outputs": [
    {
     "name": "stdout",
     "output_type": "stream",
     "text": [
      "sachin tendulkar \n",
      "sachin tendulkar \n"
     ]
    }
   ],
   "source": [
    "print(a[:]) #it wll print the entire string\n",
    "print(a[::])\n"
   ]
  },
  {
   "cell_type": "code",
   "execution_count": null,
   "id": "55cb07e8",
   "metadata": {},
   "outputs": [],
   "source": []
  },
  {
   "cell_type": "code",
   "execution_count": null,
   "id": "82be0614",
   "metadata": {},
   "outputs": [],
   "source": []
  },
  {
   "cell_type": "code",
   "execution_count": 1,
   "id": "0614b7ed",
   "metadata": {},
   "outputs": [
    {
     "name": "stdout",
     "output_type": "stream",
     "text": [
      "[12, 12, 34, 5, 6, 'vasanth', 'suresh']\n"
     ]
    }
   ],
   "source": [
    "#class 2\n",
    "#string function\n",
    "#list\n",
    "#list methods\n",
    "\n",
    "\n",
    "\n",
    "\n",
    "list=[12,12,34,5,6,\"vasanth\",\"suresh\"]\n",
    "print(list)"
   ]
  },
  {
   "cell_type": "code",
   "execution_count": 10,
   "id": "0815783f",
   "metadata": {},
   "outputs": [
    {
     "name": "stdout",
     "output_type": "stream",
     "text": [
      "[1, 2, 3, 4, 6]\n",
      "[1, 2, 3, 4, 6]\n"
     ]
    }
   ],
   "source": [
    "#shallow cop\n",
    "a=[1,2,3,4]\n",
    "b=a\n",
    "a.append(6)\n",
    "print(a)\n",
    "print(b)"
   ]
  },
  {
   "cell_type": "code",
   "execution_count": 16,
   "id": "04cea3a3",
   "metadata": {},
   "outputs": [
    {
     "name": "stdout",
     "output_type": "stream",
     "text": [
      "[1, 2, 3, 4, 4, 6789]\n",
      "[1, 2, 3, 4, 4]\n"
     ]
    }
   ],
   "source": [
    "#deepcopy\n",
    "a=[1,2,3,4,4]\n",
    "b=a.copy()\n",
    "a.append(6789)\n",
    "print(a)\n",
    "print(b)"
   ]
  },
  {
   "cell_type": "code",
   "execution_count": null,
   "id": "809cb90a",
   "metadata": {},
   "outputs": [],
   "source": [
    "#interview question \n",
    "#deep copy\n",
    "#shallow copy\n",
    "#reverse a list\n",
    "#extend the  list\n"
   ]
  },
  {
   "cell_type": "code",
   "execution_count": 28,
   "id": "2f44ee8b",
   "metadata": {},
   "outputs": [
    {
     "name": "stdout",
     "output_type": "stream",
     "text": [
      "<class 'list'>\n",
      "['hello', 'hi', 'welcome']\n",
      "welcome\n",
      "hello\n",
      "1\n",
      "['welcome', 'hello', 'hi']\n",
      "None\n",
      "['hi', 'hello', 'welcome', 254]\n",
      "None\n",
      "['hi', 'hello', 'welcome', 254, 2, 3, 4, 4]\n"
     ]
    }
   ],
   "source": [
    "a=['hi',\"hello\",\"welcome\"]\n",
    "print(type(a))\n",
    "print(sorted(a))\n",
    "print(max(a))\n",
    "print(min(a))\n",
    "print(a.index(\"hello\"))\n",
    "print(a[::-1])\n",
    "print(a.append(254))\n",
    "print(a)\n",
    "print(a.extend([2,3,4,4]))\n",
    "print(a)\n",
    "\n"
   ]
  },
  {
   "cell_type": "code",
   "execution_count": null,
   "id": "4977968d",
   "metadata": {},
   "outputs": [],
   "source": [
    "#05/07/2023 ASSIGNMENT 2\n",
    "#get a number from input\n",
    "#a=test@gmail.com\n",
    "#a=[hi,hello,wellcome] print the last letter in last word\n",
    "\n"
   ]
  }
 ],
 "metadata": {
  "kernelspec": {
   "display_name": "Python 3 (ipykernel)",
   "language": "python",
   "name": "python3"
  },
  "language_info": {
   "codemirror_mode": {
    "name": "ipython",
    "version": 3
   },
   "file_extension": ".py",
   "mimetype": "text/x-python",
   "name": "python",
   "nbconvert_exporter": "python",
   "pygments_lexer": "ipython3",
   "version": "3.10.9"
  }
 },
 "nbformat": 4,
 "nbformat_minor": 5
}
